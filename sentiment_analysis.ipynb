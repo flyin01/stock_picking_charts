{
  "nbformat": 4,
  "nbformat_minor": 0,
  "metadata": {
    "colab": {
      "provenance": []
    },
    "kernelspec": {
      "name": "python3",
      "display_name": "Python 3"
    },
    "language_info": {
      "name": "python"
    }
  },
  "cells": [
    {
      "cell_type": "markdown",
      "source": [
        "###Sentiment Analysis  \n",
        "\n",
        "This program uses the `SentimentIntensityAnalyzer` from the `nltk` library to calculate the sentiment of each sentence. The `polarity_scores` method returns a dictionary with various scores, including a `compound` score that represents the overall sentiment of the sentence. If the `compound` score is positive, the sentiment is considered positive; if it is negative, the sentiment is considered negative; otherwise, it is considered neutral.\n",
        "\n",
        "The results are stored in a list of lists, where each inner list contains the sentence number (starting from 1), the sentence itself, and the sentiment label. This list of lists is then converted into a pandas DataFrame with the specified column names."
      ],
      "metadata": {
        "id": "e9vwxL-QiB_a"
      }
    },
    {
      "cell_type": "code",
      "source": [
        "!python --version"
      ],
      "metadata": {
        "colab": {
          "base_uri": "https://localhost:8080/"
        },
        "id": "Z_Dj7Yu7iCXq",
        "outputId": "c794155a-bbee-48e3-898f-4192f5ff34ed"
      },
      "execution_count": null,
      "outputs": [
        {
          "output_type": "stream",
          "name": "stdout",
          "text": [
            "Python 3.9.16\n"
          ]
        }
      ]
    },
    {
      "cell_type": "code",
      "source": [
        "import nltk\n",
        "nltk.download('vader_lexicon')\n",
        "import pandas as pd\n",
        "from nltk.sentiment import SentimentIntensityAnalyzer # English only\n",
        "\n",
        "# Define sentiment analyser func\n",
        "def sentiment_analysis(sentences):\n",
        "    sia = SentimentIntensityAnalyzer()\n",
        "    results = []\n",
        "    for i, sentence in enumerate(sentences):\n",
        "        sentiment = sia.polarity_scores(sentence)\n",
        "        compound = sentiment['compound']\n",
        "        if compound > 0:\n",
        "            sentiment_label = 'positive'\n",
        "        elif compound < 0:\n",
        "            sentiment_label = 'negative'\n",
        "        else:\n",
        "            sentiment_label = 'neutral'\n",
        "        results.append([i+1, sentence, sentiment_label, compound])\n",
        "    df = pd.DataFrame(results, columns=['sentence number', 'sentence', 'sentiment', 'compound'])\n",
        "    return df"
      ],
      "metadata": {
        "colab": {
          "base_uri": "https://localhost:8080/"
        },
        "id": "Jvo5J7AtjoQj",
        "outputId": "fffb6e23-8f7d-4612-dd7e-9b8901af8b3a"
      },
      "execution_count": null,
      "outputs": [
        {
          "output_type": "stream",
          "name": "stderr",
          "text": [
            "[nltk_data] Downloading package vader_lexicon to /root/nltk_data...\n",
            "[nltk_data]   Package vader_lexicon is already up-to-date!\n"
          ]
        }
      ]
    },
    {
      "cell_type": "code",
      "source": [
        "sentences = [\"I love the new car from Tesla but the lead time sucks\", \n",
        "             \"There is a war going on between Ukrain and Russia but hopefully it will soon be over\", \n",
        "             \"How about North Korea?\", \n",
        "             \"I love my new bike\"]\n",
        "\n",
        "df = sentiment_analysis(sentences)\n",
        "df.head()"
      ],
      "metadata": {
        "colab": {
          "base_uri": "https://localhost:8080/",
          "height": 175
        },
        "id": "n_Lkw2hiifLC",
        "outputId": "8935a894-e58c-4c8f-99d6-992b475e0164"
      },
      "execution_count": null,
      "outputs": [
        {
          "output_type": "execute_result",
          "data": {
            "text/plain": [
              "   sentence number                                           sentence  \\\n",
              "0                1  I love the new car from Tesla but the lead tim...   \n",
              "1                2  There is a war going on between Ukrain and Rus...   \n",
              "2                3                             How about North Korea?   \n",
              "3                4                                 I love my new bike   \n",
              "\n",
              "  sentiment  compound  \n",
              "0  negative   -0.1655  \n",
              "1  positive    0.2732  \n",
              "2   neutral    0.0000  \n",
              "3  positive    0.6369  "
            ],
            "text/html": [
              "\n",
              "  <div id=\"df-acc1ae19-ede5-47b7-94eb-47dc9ff15b33\">\n",
              "    <div class=\"colab-df-container\">\n",
              "      <div>\n",
              "<style scoped>\n",
              "    .dataframe tbody tr th:only-of-type {\n",
              "        vertical-align: middle;\n",
              "    }\n",
              "\n",
              "    .dataframe tbody tr th {\n",
              "        vertical-align: top;\n",
              "    }\n",
              "\n",
              "    .dataframe thead th {\n",
              "        text-align: right;\n",
              "    }\n",
              "</style>\n",
              "<table border=\"1\" class=\"dataframe\">\n",
              "  <thead>\n",
              "    <tr style=\"text-align: right;\">\n",
              "      <th></th>\n",
              "      <th>sentence number</th>\n",
              "      <th>sentence</th>\n",
              "      <th>sentiment</th>\n",
              "      <th>compound</th>\n",
              "    </tr>\n",
              "  </thead>\n",
              "  <tbody>\n",
              "    <tr>\n",
              "      <th>0</th>\n",
              "      <td>1</td>\n",
              "      <td>I love the new car from Tesla but the lead tim...</td>\n",
              "      <td>negative</td>\n",
              "      <td>-0.1655</td>\n",
              "    </tr>\n",
              "    <tr>\n",
              "      <th>1</th>\n",
              "      <td>2</td>\n",
              "      <td>There is a war going on between Ukrain and Rus...</td>\n",
              "      <td>positive</td>\n",
              "      <td>0.2732</td>\n",
              "    </tr>\n",
              "    <tr>\n",
              "      <th>2</th>\n",
              "      <td>3</td>\n",
              "      <td>How about North Korea?</td>\n",
              "      <td>neutral</td>\n",
              "      <td>0.0000</td>\n",
              "    </tr>\n",
              "    <tr>\n",
              "      <th>3</th>\n",
              "      <td>4</td>\n",
              "      <td>I love my new bike</td>\n",
              "      <td>positive</td>\n",
              "      <td>0.6369</td>\n",
              "    </tr>\n",
              "  </tbody>\n",
              "</table>\n",
              "</div>\n",
              "      <button class=\"colab-df-convert\" onclick=\"convertToInteractive('df-acc1ae19-ede5-47b7-94eb-47dc9ff15b33')\"\n",
              "              title=\"Convert this dataframe to an interactive table.\"\n",
              "              style=\"display:none;\">\n",
              "        \n",
              "  <svg xmlns=\"http://www.w3.org/2000/svg\" height=\"24px\"viewBox=\"0 0 24 24\"\n",
              "       width=\"24px\">\n",
              "    <path d=\"M0 0h24v24H0V0z\" fill=\"none\"/>\n",
              "    <path d=\"M18.56 5.44l.94 2.06.94-2.06 2.06-.94-2.06-.94-.94-2.06-.94 2.06-2.06.94zm-11 1L8.5 8.5l.94-2.06 2.06-.94-2.06-.94L8.5 2.5l-.94 2.06-2.06.94zm10 10l.94 2.06.94-2.06 2.06-.94-2.06-.94-.94-2.06-.94 2.06-2.06.94z\"/><path d=\"M17.41 7.96l-1.37-1.37c-.4-.4-.92-.59-1.43-.59-.52 0-1.04.2-1.43.59L10.3 9.45l-7.72 7.72c-.78.78-.78 2.05 0 2.83L4 21.41c.39.39.9.59 1.41.59.51 0 1.02-.2 1.41-.59l7.78-7.78 2.81-2.81c.8-.78.8-2.07 0-2.86zM5.41 20L4 18.59l7.72-7.72 1.47 1.35L5.41 20z\"/>\n",
              "  </svg>\n",
              "      </button>\n",
              "      \n",
              "  <style>\n",
              "    .colab-df-container {\n",
              "      display:flex;\n",
              "      flex-wrap:wrap;\n",
              "      gap: 12px;\n",
              "    }\n",
              "\n",
              "    .colab-df-convert {\n",
              "      background-color: #E8F0FE;\n",
              "      border: none;\n",
              "      border-radius: 50%;\n",
              "      cursor: pointer;\n",
              "      display: none;\n",
              "      fill: #1967D2;\n",
              "      height: 32px;\n",
              "      padding: 0 0 0 0;\n",
              "      width: 32px;\n",
              "    }\n",
              "\n",
              "    .colab-df-convert:hover {\n",
              "      background-color: #E2EBFA;\n",
              "      box-shadow: 0px 1px 2px rgba(60, 64, 67, 0.3), 0px 1px 3px 1px rgba(60, 64, 67, 0.15);\n",
              "      fill: #174EA6;\n",
              "    }\n",
              "\n",
              "    [theme=dark] .colab-df-convert {\n",
              "      background-color: #3B4455;\n",
              "      fill: #D2E3FC;\n",
              "    }\n",
              "\n",
              "    [theme=dark] .colab-df-convert:hover {\n",
              "      background-color: #434B5C;\n",
              "      box-shadow: 0px 1px 3px 1px rgba(0, 0, 0, 0.15);\n",
              "      filter: drop-shadow(0px 1px 2px rgba(0, 0, 0, 0.3));\n",
              "      fill: #FFFFFF;\n",
              "    }\n",
              "  </style>\n",
              "\n",
              "      <script>\n",
              "        const buttonEl =\n",
              "          document.querySelector('#df-acc1ae19-ede5-47b7-94eb-47dc9ff15b33 button.colab-df-convert');\n",
              "        buttonEl.style.display =\n",
              "          google.colab.kernel.accessAllowed ? 'block' : 'none';\n",
              "\n",
              "        async function convertToInteractive(key) {\n",
              "          const element = document.querySelector('#df-acc1ae19-ede5-47b7-94eb-47dc9ff15b33');\n",
              "          const dataTable =\n",
              "            await google.colab.kernel.invokeFunction('convertToInteractive',\n",
              "                                                     [key], {});\n",
              "          if (!dataTable) return;\n",
              "\n",
              "          const docLinkHtml = 'Like what you see? Visit the ' +\n",
              "            '<a target=\"_blank\" href=https://colab.research.google.com/notebooks/data_table.ipynb>data table notebook</a>'\n",
              "            + ' to learn more about interactive tables.';\n",
              "          element.innerHTML = '';\n",
              "          dataTable['output_type'] = 'display_data';\n",
              "          await google.colab.output.renderOutput(dataTable, element);\n",
              "          const docLink = document.createElement('div');\n",
              "          docLink.innerHTML = docLinkHtml;\n",
              "          element.appendChild(docLink);\n",
              "        }\n",
              "      </script>\n",
              "    </div>\n",
              "  </div>\n",
              "  "
            ]
          },
          "metadata": {},
          "execution_count": 7
        }
      ]
    },
    {
      "cell_type": "markdown",
      "source": [
        "The sentence “I love the new car from Tesla but the lead time sucks” expresses both positive and negative sentiments and should be considered neutral overall. This is confusing.\n",
        "\n",
        "Sentiment analysis is a complex task and the results can vary depending on the specific algorithm and model used. The `SentimentIntensityAnalyzer` from the `nltk` library, which was used in the example program I provided, uses a rule-based approach to calculate the sentiment of a given text. While this approach can provide accurate results in many cases, it may not always be able to correctly identify the overall sentiment of a text, especially when the text contains mixed sentiments.  \n",
        "  \n",
        "`SentimentIntensityAnalyzer` from the calculate the sentiment of each sentence. This analyzer uses a rule-based approach to calculate the sentiment and assigns a `compound` score to each sentence based on the intensity and polarity of the words it contains. The compound score is then used to determine the overall sentiment of the sentence (positive, negative, or neutral).\n",
        "\n",
        "In the case of the sentence “I love the new car from Tesla but the lead time sucks”, the `SentimentIntensityAnalyzer` assigns a negative compound score, which results in a negative sentiment label. This is because the negative words in the sentence (“sucks”) have a stronger impact on the compound score than the positive words (“love”).\n",
        "\n",
        "While it is possible to manually adjust the sentiment label for this specific sentence to “neutral”, it is not recommended to do so as it would not address the underlying issue with the sentiment analysis algorithm. Instead, you may want to consider using a different sentiment analysis algorithm or model that is better suited to handle sentences with mixed sentiments."
      ],
      "metadata": {
        "id": "1fywsXiykoEI"
      }
    },
    {
      "cell_type": "markdown",
      "source": [
        "The compound score is a normalized value that ranges from -1 (most negative) to +1 (most positive).\n",
        "\n",
        "In the sentiment analysis program above, the following thresholds were used to determine the overall sentiment of a sentence based on its compound score:\n",
        "\n",
        "* If the `compound` score is greater than 0, the sentiment is considered **positive**.\n",
        "* If the `compound` score is less than 0, the sentiment is considered **negative**.\n",
        "* If the `compound` score is equal to 0, the sentiment is considered **neutral**.  \n",
        "  \n",
        "These thresholds are commonly used in sentiment analysis and can provide accurate results in many cases. However, it is important to note that the choice of thresholds can have a significant impact on the results and may need to be adjusted depending on the specific use case and data."
      ],
      "metadata": {
        "id": "egq8HpJ5lixw"
      }
    },
    {
      "cell_type": "markdown",
      "source": [
        "In the sentiment analysis above, the sentiment of a sentence is considered neutral if its `compound` score is exactly 0. However, this is just one way to define the thresholds for determining the overall sentiment of a sentence. Depending on the specific use case and data, you may want to use different thresholds to determine when a sentence should be considered neutral.\n",
        "\n",
        "The `compound` score is calculated by the `SentimentIntensityAnalyzer` from the `nltk` library using a rule-based approach. The analyzer uses a pre-defined lexicon of words that are labeled with their sentiment polarity (positive or negative) and intensity (how positive or negative the word is). The analyzer then calculates the sentiment of a given text by summing the sentiment scores of its individual words and normalizing the result to obtain a `compound` score that ranges from -1 (most negative) to +1 (most positive).\n",
        "\n",
        "The specific details of how the `compound` score is calculated can be found in the paper “*VADER: A Parsimonious Rule-based Model for Sentiment Analysis of Social Media Text*” by Hutto and Gilbert (2014), which describes the algorithm used by the `SentimentIntensityAnalyzer`."
      ],
      "metadata": {
        "id": "PcbyPwIxmfTH"
      }
    },
    {
      "cell_type": "code",
      "source": [
        "# models available for different languages, including: \n",
        "# rule-based approaches\n",
        "# machine learning-based approaches \n",
        "# and deep learning-based approaches"
      ],
      "metadata": {
        "id": "qJ1XVSQxqtDU"
      },
      "execution_count": null,
      "outputs": []
    }
  ]
}